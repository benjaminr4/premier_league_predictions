{
 "cells": [
  {
   "cell_type": "code",
   "execution_count": 94,
   "id": "6b64d2f2-b647-4044-b2c1-b541b023f3fa",
   "metadata": {},
   "outputs": [],
   "source": [
    "import pandas as pd\n",
    "import numpy as np"
   ]
  },
  {
   "cell_type": "code",
   "execution_count": 95,
   "id": "1f813768-8af1-4226-b0a3-19d03ba725ca",
   "metadata": {},
   "outputs": [],
   "source": [
    "pd.set_option('display.max_columns', None)\n",
    "#pd.reset_option('display.max_columns')"
   ]
  },
  {
   "cell_type": "code",
   "execution_count": 96,
   "id": "d5b8e081-202e-4578-ab09-63c4ac0b22ce",
   "metadata": {},
   "outputs": [],
   "source": [
    "myresults=pd.read_pickle('data/match_predictions.pkl')"
   ]
  },
  {
   "cell_type": "code",
   "execution_count": 97,
   "id": "9553dc17-7a54-4b8a-84b4-ab34b96ed904",
   "metadata": {},
   "outputs": [],
   "source": [
    "myresults=myresults.reset_index(drop=True)"
   ]
  },
  {
   "cell_type": "code",
   "execution_count": 98,
   "id": "e6b87440-eaf3-47ee-8c31-ed9aa8a0fffc",
   "metadata": {},
   "outputs": [
    {
     "data": {
      "text/html": [
       "<div>\n",
       "<style scoped>\n",
       "    .dataframe tbody tr th:only-of-type {\n",
       "        vertical-align: middle;\n",
       "    }\n",
       "\n",
       "    .dataframe tbody tr th {\n",
       "        vertical-align: top;\n",
       "    }\n",
       "\n",
       "    .dataframe thead th {\n",
       "        text-align: right;\n",
       "    }\n",
       "</style>\n",
       "<table border=\"1\" class=\"dataframe\">\n",
       "  <thead>\n",
       "    <tr style=\"text-align: right;\">\n",
       "      <th></th>\n",
       "      <th>Date</th>\n",
       "      <th>HomeTeam</th>\n",
       "      <th>AwayTeam</th>\n",
       "      <th>FTR</th>\n",
       "      <th>season</th>\n",
       "      <th>B365H</th>\n",
       "      <th>B365D</th>\n",
       "      <th>B365A</th>\n",
       "      <th>MaxH</th>\n",
       "      <th>AvgH</th>\n",
       "      <th>MaxD</th>\n",
       "      <th>AvgD</th>\n",
       "      <th>MaxA</th>\n",
       "      <th>AvgA</th>\n",
       "      <th>predictions</th>\n",
       "      <th>proba_H</th>\n",
       "      <th>proba_D</th>\n",
       "      <th>proba_A</th>\n",
       "    </tr>\n",
       "  </thead>\n",
       "  <tbody>\n",
       "    <tr>\n",
       "      <th>0</th>\n",
       "      <td>2023-08-11</td>\n",
       "      <td>Burnley</td>\n",
       "      <td>Man City</td>\n",
       "      <td>A</td>\n",
       "      <td>season23</td>\n",
       "      <td>8.00</td>\n",
       "      <td>5.50</td>\n",
       "      <td>1.33</td>\n",
       "      <td>9.50</td>\n",
       "      <td>9.02</td>\n",
       "      <td>5.68</td>\n",
       "      <td>5.35</td>\n",
       "      <td>1.39</td>\n",
       "      <td>1.35</td>\n",
       "      <td>A</td>\n",
       "      <td>0.208388</td>\n",
       "      <td>0.243915</td>\n",
       "      <td>0.547697</td>\n",
       "    </tr>\n",
       "    <tr>\n",
       "      <th>1</th>\n",
       "      <td>2023-08-12</td>\n",
       "      <td>Arsenal</td>\n",
       "      <td>Nott'm Forest</td>\n",
       "      <td>H</td>\n",
       "      <td>season23</td>\n",
       "      <td>1.18</td>\n",
       "      <td>7.00</td>\n",
       "      <td>15.00</td>\n",
       "      <td>1.21</td>\n",
       "      <td>1.18</td>\n",
       "      <td>8.50</td>\n",
       "      <td>7.64</td>\n",
       "      <td>17.50</td>\n",
       "      <td>15.67</td>\n",
       "      <td>H</td>\n",
       "      <td>0.658375</td>\n",
       "      <td>0.171784</td>\n",
       "      <td>0.169841</td>\n",
       "    </tr>\n",
       "    <tr>\n",
       "      <th>2</th>\n",
       "      <td>2023-08-12</td>\n",
       "      <td>Bournemouth</td>\n",
       "      <td>West Ham</td>\n",
       "      <td>D</td>\n",
       "      <td>season23</td>\n",
       "      <td>2.70</td>\n",
       "      <td>3.40</td>\n",
       "      <td>2.55</td>\n",
       "      <td>2.80</td>\n",
       "      <td>2.69</td>\n",
       "      <td>3.62</td>\n",
       "      <td>3.44</td>\n",
       "      <td>2.75</td>\n",
       "      <td>2.64</td>\n",
       "      <td>A</td>\n",
       "      <td>0.340656</td>\n",
       "      <td>0.311815</td>\n",
       "      <td>0.347529</td>\n",
       "    </tr>\n",
       "    <tr>\n",
       "      <th>3</th>\n",
       "      <td>2023-08-12</td>\n",
       "      <td>Brighton</td>\n",
       "      <td>Luton</td>\n",
       "      <td>H</td>\n",
       "      <td>season23</td>\n",
       "      <td>1.33</td>\n",
       "      <td>5.50</td>\n",
       "      <td>9.00</td>\n",
       "      <td>1.36</td>\n",
       "      <td>1.33</td>\n",
       "      <td>6.00</td>\n",
       "      <td>5.52</td>\n",
       "      <td>10.50</td>\n",
       "      <td>9.61</td>\n",
       "      <td>H</td>\n",
       "      <td>0.544671</td>\n",
       "      <td>0.245741</td>\n",
       "      <td>0.209588</td>\n",
       "    </tr>\n",
       "    <tr>\n",
       "      <th>4</th>\n",
       "      <td>2023-08-12</td>\n",
       "      <td>Everton</td>\n",
       "      <td>Fulham</td>\n",
       "      <td>A</td>\n",
       "      <td>season23</td>\n",
       "      <td>2.20</td>\n",
       "      <td>3.40</td>\n",
       "      <td>3.30</td>\n",
       "      <td>2.30</td>\n",
       "      <td>2.24</td>\n",
       "      <td>3.57</td>\n",
       "      <td>3.43</td>\n",
       "      <td>3.45</td>\n",
       "      <td>3.30</td>\n",
       "      <td>H</td>\n",
       "      <td>0.364506</td>\n",
       "      <td>0.303388</td>\n",
       "      <td>0.332106</td>\n",
       "    </tr>\n",
       "    <tr>\n",
       "      <th>...</th>\n",
       "      <td>...</td>\n",
       "      <td>...</td>\n",
       "      <td>...</td>\n",
       "      <td>...</td>\n",
       "      <td>...</td>\n",
       "      <td>...</td>\n",
       "      <td>...</td>\n",
       "      <td>...</td>\n",
       "      <td>...</td>\n",
       "      <td>...</td>\n",
       "      <td>...</td>\n",
       "      <td>...</td>\n",
       "      <td>...</td>\n",
       "      <td>...</td>\n",
       "      <td>...</td>\n",
       "      <td>...</td>\n",
       "      <td>...</td>\n",
       "      <td>...</td>\n",
       "    </tr>\n",
       "    <tr>\n",
       "      <th>375</th>\n",
       "      <td>2024-05-19</td>\n",
       "      <td>Crystal Palace</td>\n",
       "      <td>Aston Villa</td>\n",
       "      <td>H</td>\n",
       "      <td>season23</td>\n",
       "      <td>1.85</td>\n",
       "      <td>4.33</td>\n",
       "      <td>3.60</td>\n",
       "      <td>1.93</td>\n",
       "      <td>1.87</td>\n",
       "      <td>4.50</td>\n",
       "      <td>4.28</td>\n",
       "      <td>3.84</td>\n",
       "      <td>3.67</td>\n",
       "      <td>H</td>\n",
       "      <td>0.429992</td>\n",
       "      <td>0.279912</td>\n",
       "      <td>0.290096</td>\n",
       "    </tr>\n",
       "    <tr>\n",
       "      <th>376</th>\n",
       "      <td>2024-05-19</td>\n",
       "      <td>Liverpool</td>\n",
       "      <td>Wolves</td>\n",
       "      <td>H</td>\n",
       "      <td>season23</td>\n",
       "      <td>1.17</td>\n",
       "      <td>8.00</td>\n",
       "      <td>15.00</td>\n",
       "      <td>1.18</td>\n",
       "      <td>1.16</td>\n",
       "      <td>10.00</td>\n",
       "      <td>8.71</td>\n",
       "      <td>17.00</td>\n",
       "      <td>14.55</td>\n",
       "      <td>H</td>\n",
       "      <td>0.586533</td>\n",
       "      <td>0.227369</td>\n",
       "      <td>0.186098</td>\n",
       "    </tr>\n",
       "    <tr>\n",
       "      <th>377</th>\n",
       "      <td>2024-05-19</td>\n",
       "      <td>Luton</td>\n",
       "      <td>Fulham</td>\n",
       "      <td>A</td>\n",
       "      <td>season23</td>\n",
       "      <td>2.90</td>\n",
       "      <td>3.90</td>\n",
       "      <td>2.20</td>\n",
       "      <td>3.00</td>\n",
       "      <td>2.92</td>\n",
       "      <td>4.35</td>\n",
       "      <td>3.95</td>\n",
       "      <td>2.30</td>\n",
       "      <td>2.23</td>\n",
       "      <td>A</td>\n",
       "      <td>0.321672</td>\n",
       "      <td>0.255968</td>\n",
       "      <td>0.422360</td>\n",
       "    </tr>\n",
       "    <tr>\n",
       "      <th>378</th>\n",
       "      <td>2024-05-19</td>\n",
       "      <td>Man City</td>\n",
       "      <td>West Ham</td>\n",
       "      <td>H</td>\n",
       "      <td>season23</td>\n",
       "      <td>1.08</td>\n",
       "      <td>12.00</td>\n",
       "      <td>21.00</td>\n",
       "      <td>1.11</td>\n",
       "      <td>1.10</td>\n",
       "      <td>14.00</td>\n",
       "      <td>11.72</td>\n",
       "      <td>25.00</td>\n",
       "      <td>21.81</td>\n",
       "      <td>H</td>\n",
       "      <td>0.601762</td>\n",
       "      <td>0.230930</td>\n",
       "      <td>0.167309</td>\n",
       "    </tr>\n",
       "    <tr>\n",
       "      <th>379</th>\n",
       "      <td>2024-05-19</td>\n",
       "      <td>Sheffield United</td>\n",
       "      <td>Tottenham</td>\n",
       "      <td>A</td>\n",
       "      <td>season23</td>\n",
       "      <td>7.00</td>\n",
       "      <td>6.00</td>\n",
       "      <td>1.33</td>\n",
       "      <td>7.90</td>\n",
       "      <td>7.32</td>\n",
       "      <td>6.34</td>\n",
       "      <td>6.04</td>\n",
       "      <td>1.39</td>\n",
       "      <td>1.35</td>\n",
       "      <td>A</td>\n",
       "      <td>0.219927</td>\n",
       "      <td>0.245820</td>\n",
       "      <td>0.534254</td>\n",
       "    </tr>\n",
       "  </tbody>\n",
       "</table>\n",
       "<p>380 rows × 18 columns</p>\n",
       "</div>"
      ],
      "text/plain": [
       "          Date          HomeTeam       AwayTeam FTR    season  B365H  B365D  \\\n",
       "0   2023-08-11           Burnley       Man City   A  season23   8.00   5.50   \n",
       "1   2023-08-12           Arsenal  Nott'm Forest   H  season23   1.18   7.00   \n",
       "2   2023-08-12       Bournemouth       West Ham   D  season23   2.70   3.40   \n",
       "3   2023-08-12          Brighton          Luton   H  season23   1.33   5.50   \n",
       "4   2023-08-12           Everton         Fulham   A  season23   2.20   3.40   \n",
       "..         ...               ...            ...  ..       ...    ...    ...   \n",
       "375 2024-05-19    Crystal Palace    Aston Villa   H  season23   1.85   4.33   \n",
       "376 2024-05-19         Liverpool         Wolves   H  season23   1.17   8.00   \n",
       "377 2024-05-19             Luton         Fulham   A  season23   2.90   3.90   \n",
       "378 2024-05-19          Man City       West Ham   H  season23   1.08  12.00   \n",
       "379 2024-05-19  Sheffield United      Tottenham   A  season23   7.00   6.00   \n",
       "\n",
       "     B365A  MaxH  AvgH   MaxD   AvgD   MaxA   AvgA predictions   proba_H  \\\n",
       "0     1.33  9.50  9.02   5.68   5.35   1.39   1.35           A  0.208388   \n",
       "1    15.00  1.21  1.18   8.50   7.64  17.50  15.67           H  0.658375   \n",
       "2     2.55  2.80  2.69   3.62   3.44   2.75   2.64           A  0.340656   \n",
       "3     9.00  1.36  1.33   6.00   5.52  10.50   9.61           H  0.544671   \n",
       "4     3.30  2.30  2.24   3.57   3.43   3.45   3.30           H  0.364506   \n",
       "..     ...   ...   ...    ...    ...    ...    ...         ...       ...   \n",
       "375   3.60  1.93  1.87   4.50   4.28   3.84   3.67           H  0.429992   \n",
       "376  15.00  1.18  1.16  10.00   8.71  17.00  14.55           H  0.586533   \n",
       "377   2.20  3.00  2.92   4.35   3.95   2.30   2.23           A  0.321672   \n",
       "378  21.00  1.11  1.10  14.00  11.72  25.00  21.81           H  0.601762   \n",
       "379   1.33  7.90  7.32   6.34   6.04   1.39   1.35           A  0.219927   \n",
       "\n",
       "      proba_D   proba_A  \n",
       "0    0.243915  0.547697  \n",
       "1    0.171784  0.169841  \n",
       "2    0.311815  0.347529  \n",
       "3    0.245741  0.209588  \n",
       "4    0.303388  0.332106  \n",
       "..        ...       ...  \n",
       "375  0.279912  0.290096  \n",
       "376  0.227369  0.186098  \n",
       "377  0.255968  0.422360  \n",
       "378  0.230930  0.167309  \n",
       "379  0.245820  0.534254  \n",
       "\n",
       "[380 rows x 18 columns]"
      ]
     },
     "execution_count": 98,
     "metadata": {},
     "output_type": "execute_result"
    }
   ],
   "source": [
    "myresults"
   ]
  },
  {
   "cell_type": "code",
   "execution_count": 99,
   "id": "d03d6cf9-960f-49fa-ad6a-f0f5c5bb66ec",
   "metadata": {},
   "outputs": [],
   "source": [
    "resultsubset=myresults[['Date', 'FTR', 'HomeTeam', 'AwayTeam', 'season', 'predictions', 'proba_H', 'proba_D', 'proba_A']]"
   ]
  },
  {
   "cell_type": "code",
   "execution_count": 100,
   "id": "67a3c9ae-6ab7-4bef-b51c-a7f4a10aca0c",
   "metadata": {},
   "outputs": [
    {
     "data": {
      "text/html": [
       "<div>\n",
       "<style scoped>\n",
       "    .dataframe tbody tr th:only-of-type {\n",
       "        vertical-align: middle;\n",
       "    }\n",
       "\n",
       "    .dataframe tbody tr th {\n",
       "        vertical-align: top;\n",
       "    }\n",
       "\n",
       "    .dataframe thead th {\n",
       "        text-align: right;\n",
       "    }\n",
       "</style>\n",
       "<table border=\"1\" class=\"dataframe\">\n",
       "  <thead>\n",
       "    <tr style=\"text-align: right;\">\n",
       "      <th></th>\n",
       "      <th>Date</th>\n",
       "      <th>FTR</th>\n",
       "      <th>HomeTeam</th>\n",
       "      <th>AwayTeam</th>\n",
       "      <th>season</th>\n",
       "      <th>predictions</th>\n",
       "      <th>proba_H</th>\n",
       "      <th>proba_D</th>\n",
       "      <th>proba_A</th>\n",
       "    </tr>\n",
       "  </thead>\n",
       "  <tbody>\n",
       "    <tr>\n",
       "      <th>0</th>\n",
       "      <td>2023-08-11</td>\n",
       "      <td>A</td>\n",
       "      <td>Burnley</td>\n",
       "      <td>Man City</td>\n",
       "      <td>season23</td>\n",
       "      <td>A</td>\n",
       "      <td>0.208388</td>\n",
       "      <td>0.243915</td>\n",
       "      <td>0.547697</td>\n",
       "    </tr>\n",
       "    <tr>\n",
       "      <th>1</th>\n",
       "      <td>2023-08-12</td>\n",
       "      <td>H</td>\n",
       "      <td>Arsenal</td>\n",
       "      <td>Nott'm Forest</td>\n",
       "      <td>season23</td>\n",
       "      <td>H</td>\n",
       "      <td>0.658375</td>\n",
       "      <td>0.171784</td>\n",
       "      <td>0.169841</td>\n",
       "    </tr>\n",
       "    <tr>\n",
       "      <th>2</th>\n",
       "      <td>2023-08-12</td>\n",
       "      <td>D</td>\n",
       "      <td>Bournemouth</td>\n",
       "      <td>West Ham</td>\n",
       "      <td>season23</td>\n",
       "      <td>A</td>\n",
       "      <td>0.340656</td>\n",
       "      <td>0.311815</td>\n",
       "      <td>0.347529</td>\n",
       "    </tr>\n",
       "    <tr>\n",
       "      <th>3</th>\n",
       "      <td>2023-08-12</td>\n",
       "      <td>H</td>\n",
       "      <td>Brighton</td>\n",
       "      <td>Luton</td>\n",
       "      <td>season23</td>\n",
       "      <td>H</td>\n",
       "      <td>0.544671</td>\n",
       "      <td>0.245741</td>\n",
       "      <td>0.209588</td>\n",
       "    </tr>\n",
       "    <tr>\n",
       "      <th>4</th>\n",
       "      <td>2023-08-12</td>\n",
       "      <td>A</td>\n",
       "      <td>Everton</td>\n",
       "      <td>Fulham</td>\n",
       "      <td>season23</td>\n",
       "      <td>H</td>\n",
       "      <td>0.364506</td>\n",
       "      <td>0.303388</td>\n",
       "      <td>0.332106</td>\n",
       "    </tr>\n",
       "    <tr>\n",
       "      <th>...</th>\n",
       "      <td>...</td>\n",
       "      <td>...</td>\n",
       "      <td>...</td>\n",
       "      <td>...</td>\n",
       "      <td>...</td>\n",
       "      <td>...</td>\n",
       "      <td>...</td>\n",
       "      <td>...</td>\n",
       "      <td>...</td>\n",
       "    </tr>\n",
       "    <tr>\n",
       "      <th>375</th>\n",
       "      <td>2024-05-19</td>\n",
       "      <td>H</td>\n",
       "      <td>Crystal Palace</td>\n",
       "      <td>Aston Villa</td>\n",
       "      <td>season23</td>\n",
       "      <td>H</td>\n",
       "      <td>0.429992</td>\n",
       "      <td>0.279912</td>\n",
       "      <td>0.290096</td>\n",
       "    </tr>\n",
       "    <tr>\n",
       "      <th>376</th>\n",
       "      <td>2024-05-19</td>\n",
       "      <td>H</td>\n",
       "      <td>Liverpool</td>\n",
       "      <td>Wolves</td>\n",
       "      <td>season23</td>\n",
       "      <td>H</td>\n",
       "      <td>0.586533</td>\n",
       "      <td>0.227369</td>\n",
       "      <td>0.186098</td>\n",
       "    </tr>\n",
       "    <tr>\n",
       "      <th>377</th>\n",
       "      <td>2024-05-19</td>\n",
       "      <td>A</td>\n",
       "      <td>Luton</td>\n",
       "      <td>Fulham</td>\n",
       "      <td>season23</td>\n",
       "      <td>A</td>\n",
       "      <td>0.321672</td>\n",
       "      <td>0.255968</td>\n",
       "      <td>0.422360</td>\n",
       "    </tr>\n",
       "    <tr>\n",
       "      <th>378</th>\n",
       "      <td>2024-05-19</td>\n",
       "      <td>H</td>\n",
       "      <td>Man City</td>\n",
       "      <td>West Ham</td>\n",
       "      <td>season23</td>\n",
       "      <td>H</td>\n",
       "      <td>0.601762</td>\n",
       "      <td>0.230930</td>\n",
       "      <td>0.167309</td>\n",
       "    </tr>\n",
       "    <tr>\n",
       "      <th>379</th>\n",
       "      <td>2024-05-19</td>\n",
       "      <td>A</td>\n",
       "      <td>Sheffield United</td>\n",
       "      <td>Tottenham</td>\n",
       "      <td>season23</td>\n",
       "      <td>A</td>\n",
       "      <td>0.219927</td>\n",
       "      <td>0.245820</td>\n",
       "      <td>0.534254</td>\n",
       "    </tr>\n",
       "  </tbody>\n",
       "</table>\n",
       "<p>380 rows × 9 columns</p>\n",
       "</div>"
      ],
      "text/plain": [
       "          Date FTR          HomeTeam       AwayTeam    season predictions  \\\n",
       "0   2023-08-11   A           Burnley       Man City  season23           A   \n",
       "1   2023-08-12   H           Arsenal  Nott'm Forest  season23           H   \n",
       "2   2023-08-12   D       Bournemouth       West Ham  season23           A   \n",
       "3   2023-08-12   H          Brighton          Luton  season23           H   \n",
       "4   2023-08-12   A           Everton         Fulham  season23           H   \n",
       "..         ...  ..               ...            ...       ...         ...   \n",
       "375 2024-05-19   H    Crystal Palace    Aston Villa  season23           H   \n",
       "376 2024-05-19   H         Liverpool         Wolves  season23           H   \n",
       "377 2024-05-19   A             Luton         Fulham  season23           A   \n",
       "378 2024-05-19   H          Man City       West Ham  season23           H   \n",
       "379 2024-05-19   A  Sheffield United      Tottenham  season23           A   \n",
       "\n",
       "      proba_H   proba_D   proba_A  \n",
       "0    0.208388  0.243915  0.547697  \n",
       "1    0.658375  0.171784  0.169841  \n",
       "2    0.340656  0.311815  0.347529  \n",
       "3    0.544671  0.245741  0.209588  \n",
       "4    0.364506  0.303388  0.332106  \n",
       "..        ...       ...       ...  \n",
       "375  0.429992  0.279912  0.290096  \n",
       "376  0.586533  0.227369  0.186098  \n",
       "377  0.321672  0.255968  0.422360  \n",
       "378  0.601762  0.230930  0.167309  \n",
       "379  0.219927  0.245820  0.534254  \n",
       "\n",
       "[380 rows x 9 columns]"
      ]
     },
     "execution_count": 100,
     "metadata": {},
     "output_type": "execute_result"
    }
   ],
   "source": [
    "resultsubset"
   ]
  },
  {
   "cell_type": "code",
   "execution_count": null,
   "id": "53265218-9f53-45af-bc4c-1e3c077a6461",
   "metadata": {},
   "outputs": [],
   "source": []
  },
  {
   "cell_type": "markdown",
   "id": "e2f2e9ca-ddb7-4930-8ac3-553df70164b3",
   "metadata": {},
   "source": [
    "I will focus on comparing my probablities to bet365's for now. I will drop the other betting columns"
   ]
  },
  {
   "cell_type": "code",
   "execution_count": 101,
   "id": "21285dfc-2385-489e-a435-5a46122633bc",
   "metadata": {},
   "outputs": [],
   "source": [
    "myresults.drop(columns=['MaxH', 'AvgH' , 'MaxD', 'AvgD', 'MaxA', 'AvgA'], inplace=True)"
   ]
  },
  {
   "cell_type": "markdown",
   "id": "91b659f5-c18b-4ae7-bd71-bce76e90f668",
   "metadata": {},
   "source": [
    "I will convert the bet365 columns into implied probability and then compare to my probabilities"
   ]
  },
  {
   "cell_type": "code",
   "execution_count": 102,
   "id": "840012c2-314a-4743-a448-a48595f63b7c",
   "metadata": {},
   "outputs": [],
   "source": [
    "myresults[['B365H_implied', 'B365D_implied', 'B365A_implied']]=1/myresults[['B365H', 'B365D', 'B365A']]"
   ]
  },
  {
   "cell_type": "code",
   "execution_count": 103,
   "id": "2b8215e8-ee3c-425f-ba7c-7b18a346ab2b",
   "metadata": {},
   "outputs": [],
   "source": [
    "myresults['B365_total_implied']=myresults[['B365H_implied', 'B365D_implied', 'B365A_implied']].sum(axis=1)"
   ]
  },
  {
   "cell_type": "code",
   "execution_count": 125,
   "id": "4fa30714-8d83-41ab-98c7-8f9b8262abba",
   "metadata": {},
   "outputs": [
    {
     "data": {
      "text/plain": [
       "0      1.058698\n",
       "1      1.056981\n",
       "2      1.056645\n",
       "3      1.044809\n",
       "4      1.051693\n",
       "         ...   \n",
       "375    1.049265\n",
       "376    1.046368\n",
       "377    1.055783\n",
       "378    1.056878\n",
       "379    1.061404\n",
       "Name: B365_total_implied, Length: 380, dtype: float64"
      ]
     },
     "execution_count": 125,
     "metadata": {},
     "output_type": "execute_result"
    }
   ],
   "source": [
    "myresults['B365_total_implied']\n"
   ]
  },
  {
   "cell_type": "code",
   "execution_count": 124,
   "id": "ca0bd0e0-cc25-4a83-8db0-613f08dd4c22",
   "metadata": {},
   "outputs": [
    {
     "data": {
      "text/plain": [
       "1.0539718297865104"
      ]
     },
     "execution_count": 124,
     "metadata": {},
     "output_type": "execute_result"
    }
   ],
   "source": [
    "myresults['B365_total_implied'].mean()"
   ]
  },
  {
   "cell_type": "code",
   "execution_count": 106,
   "id": "da36e6f8-367b-4ead-92ce-b3e625fb1383",
   "metadata": {},
   "outputs": [],
   "source": [
    "# Define a mapping from column names to results\n",
    "column_to_result = {\n",
    "    'B365H_implied': 'H',\n",
    "    'B365D_implied': 'D',\n",
    "    'B365A_implied': 'A'\n",
    "}\n",
    "\n",
    "# Find the column with the maximum value and map it to 'H', 'D', or 'A'\n",
    "myresults['B365_prediction'] = myresults[['B365H_implied', 'B365D_implied', 'B365A_implied']].idxmax(axis=1).map(column_to_result)\n"
   ]
  },
  {
   "cell_type": "code",
   "execution_count": 107,
   "id": "2995e40d-af43-496a-8032-650bd1003574",
   "metadata": {},
   "outputs": [
    {
     "data": {
      "text/plain": [
       "103"
      ]
     },
     "execution_count": 107,
     "metadata": {},
     "output_type": "execute_result"
    }
   ],
   "source": [
    "len(myresults[myresults['B365_total_implied']<1.05])"
   ]
  },
  {
   "cell_type": "code",
   "execution_count": 108,
   "id": "a57ce37d-eaa4-4613-9108-0f6c20742356",
   "metadata": {},
   "outputs": [],
   "source": [
    "# Create the 'betWinnings' column\n",
    "myresults['betWinnings'] = np.where(\n",
    "    myresults['predictions'] == myresults['FTR'],  # Check if the prediction matches the actual result\n",
    "    myresults.apply(\n",
    "        lambda row: 10 * row[f\"B365{row['FTR']}\"], axis=1  # Multiply by the corresponding odds column\n",
    "    ),\n",
    "    0  # If prediction is incorrect, winnings are 0\n",
    ")"
   ]
  },
  {
   "cell_type": "code",
   "execution_count": 109,
   "id": "7e18b9e9-b935-429b-879f-794561962628",
   "metadata": {},
   "outputs": [
    {
     "data": {
      "image/png": "[encoded data removed]",
      "text/plain": [
       "<Figure size 1000x600 with 1 Axes>"
      ]
     },
     "metadata": {},
     "output_type": "display_data"
    }
   ],
   "source": [
    "import matplotlib.pyplot as plt\n",
    "import seaborn as sns\n",
    "\n",
    "grouped = (\n",
    "    myresults.groupby(['season', myresults['Date'].dt.month.rename('Month')])['betWinnings']\n",
    "    .mean()\n",
    "    .reset_index(name='AverageBetWinnings')\n",
    ")\n",
    "\n",
    "\n",
    "\n",
    "# Step 2: Plot\n",
    "plt.figure(figsize=(10, 6))\n",
    "sns.lineplot(data=grouped, x='Month', y='AverageBetWinnings', hue='season', marker='o')\n",
    "\n",
    "# Customizing the plot\n",
    "plt.title('Average Bet Winnings Per Match (by Season)')\n",
    "plt.xlabel('Month')\n",
    "plt.ylabel('Average Bet Winnings')\n",
    "plt.xticks(range(1, 13), \n",
    "           ['Jan', 'Feb', 'Mar', 'Apr', 'May', 'Jun', 'Jul', 'Aug', 'Sep', 'Oct', 'Nov', 'Dec'])\n",
    "plt.legend(title='Season')\n",
    "plt.grid()\n",
    "\n",
    "plt.show()\n"
   ]
  },
  {
   "cell_type": "code",
   "execution_count": 110,
   "id": "8ec6380b-115d-4b4a-8c90-52be83a3925a",
   "metadata": {},
   "outputs": [
    {
     "data": {
      "text/plain": [
       "Date\n",
       "2023-08    10.248276\n",
       "2023-09     9.350000\n",
       "2023-10    12.775758\n",
       "2023-11    11.236667\n",
       "2023-12    10.133333\n",
       "2024-01     8.425000\n",
       "2024-02     9.295238\n",
       "2024-03     9.300000\n",
       "2024-04     9.700000\n",
       "2024-05    15.367647\n",
       "Freq: M, Name: betWinnings, dtype: float64"
      ]
     },
     "execution_count": 110,
     "metadata": {},
     "output_type": "execute_result"
    }
   ],
   "source": [
    "myresults.groupby(myresults['Date'].dt.to_period('M'))['betWinnings'].mean()"
   ]
  },
  {
   "cell_type": "code",
   "execution_count": null,
   "id": "9d636b5e-7865-4a30-b1e6-da7698d3d6c5",
   "metadata": {},
   "outputs": [],
   "source": [
    "myresults"
   ]
  },
  {
   "cell_type": "code",
   "execution_count": 111,
   "id": "940f6ce6-d12c-46bb-91d3-b038d5ee0a80",
   "metadata": {},
   "outputs": [
    {
     "data": {
      "text/plain": [
       "4001.0"
      ]
     },
     "execution_count": 111,
     "metadata": {},
     "output_type": "execute_result"
    }
   ],
   "source": [
    "myresults['betWinnings'].sum()"
   ]
  },
  {
   "cell_type": "code",
   "execution_count": 122,
   "id": "f91025c2-85bb-4bf4-9bdb-18dbb5ecc749",
   "metadata": {},
   "outputs": [
    {
     "data": {
      "text/plain": [
       "3      13.3\n",
       "9      13.3\n",
       "15     16.7\n",
       "19     12.9\n",
       "22      0.0\n",
       "       ... \n",
       "356    23.8\n",
       "358     0.0\n",
       "369    27.5\n",
       "375    18.5\n",
       "376    11.7\n",
       "Name: betWinnings, Length: 103, dtype: float64"
      ]
     },
     "execution_count": 122,
     "metadata": {},
     "output_type": "execute_result"
    }
   ],
   "source": [
    "myresults[myresults['B365_total_implied']<1.05]['betWinnings']"
   ]
  },
  {
   "cell_type": "code",
   "execution_count": 121,
   "id": "6fd6f646-39cc-489a-ac4c-9ae64b35e1c6",
   "metadata": {},
   "outputs": [
    {
     "data": {
      "text/plain": [
       "969.4"
      ]
     },
     "execution_count": 121,
     "metadata": {},
     "output_type": "execute_result"
    }
   ],
   "source": [
    "myresults[myresults['B365_total_implied']<1.05]['betWinnings'].sum()"
   ]
  },
  {
   "cell_type": "code",
   "execution_count": 88,
   "id": "05d01326-652a-443b-9ea0-80312a0e6279",
   "metadata": {},
   "outputs": [
    {
     "data": {
      "text/plain": [
       "168.3"
      ]
     },
     "execution_count": 88,
     "metadata": {},
     "output_type": "execute_result"
    }
   ],
   "source": [
    "myresults[\n",
    "    ((myresults['predictions'] == 'H') & (myresults['B365_prediction'] == 'A')) |\n",
    "    ((myresults['predictions'] == 'A') & (myresults['B365_prediction'] == 'H'))\n",
    "]['betWinnings'].sum()"
   ]
  },
  {
   "cell_type": "code",
   "execution_count": 82,
   "id": "fe3ac6d5-9573-41e3-8d7f-147e14d52451",
   "metadata": {},
   "outputs": [
    {
     "data": {
      "text/html": [
       "<div>\n",
       "<style scoped>\n",
       "    .dataframe tbody tr th:only-of-type {\n",
       "        vertical-align: middle;\n",
       "    }\n",
       "\n",
       "    .dataframe tbody tr th {\n",
       "        vertical-align: top;\n",
       "    }\n",
       "\n",
       "    .dataframe thead th {\n",
       "        text-align: right;\n",
       "    }\n",
       "</style>\n",
       "<table border=\"1\" class=\"dataframe\">\n",
       "  <thead>\n",
       "    <tr style=\"text-align: right;\">\n",
       "      <th></th>\n",
       "      <th>Date</th>\n",
       "      <th>HomeTeam</th>\n",
       "      <th>AwayTeam</th>\n",
       "      <th>FTR</th>\n",
       "      <th>season</th>\n",
       "      <th>B365H</th>\n",
       "      <th>B365D</th>\n",
       "      <th>B365A</th>\n",
       "      <th>predictions</th>\n",
       "      <th>proba_H</th>\n",
       "      <th>proba_D</th>\n",
       "      <th>proba_A</th>\n",
       "      <th>B365H_implied</th>\n",
       "      <th>B365D_implied</th>\n",
       "      <th>B365A_implied</th>\n",
       "      <th>B365_total_implied</th>\n",
       "      <th>B365_prediction</th>\n",
       "      <th>betWinnings</th>\n",
       "    </tr>\n",
       "  </thead>\n",
       "  <tbody>\n",
       "    <tr>\n",
       "      <th>29</th>\n",
       "      <td>2023-09-01</td>\n",
       "      <td>Luton</td>\n",
       "      <td>West Ham</td>\n",
       "      <td>A</td>\n",
       "      <td>season23</td>\n",
       "      <td>4.75</td>\n",
       "      <td>3.80</td>\n",
       "      <td>1.73</td>\n",
       "      <td>H</td>\n",
       "      <td>0.341156</td>\n",
       "      <td>0.340327</td>\n",
       "      <td>0.318517</td>\n",
       "      <td>0.210526</td>\n",
       "      <td>0.263158</td>\n",
       "      <td>0.578035</td>\n",
       "      <td>1.051719</td>\n",
       "      <td>A</td>\n",
       "      <td>0.0</td>\n",
       "    </tr>\n",
       "    <tr>\n",
       "      <th>50</th>\n",
       "      <td>2023-09-23</td>\n",
       "      <td>Luton</td>\n",
       "      <td>Wolves</td>\n",
       "      <td>D</td>\n",
       "      <td>season23</td>\n",
       "      <td>3.25</td>\n",
       "      <td>3.40</td>\n",
       "      <td>2.20</td>\n",
       "      <td>H</td>\n",
       "      <td>0.391302</td>\n",
       "      <td>0.326213</td>\n",
       "      <td>0.282485</td>\n",
       "      <td>0.307692</td>\n",
       "      <td>0.294118</td>\n",
       "      <td>0.454545</td>\n",
       "      <td>1.056355</td>\n",
       "      <td>A</td>\n",
       "      <td>0.0</td>\n",
       "    </tr>\n",
       "    <tr>\n",
       "      <th>79</th>\n",
       "      <td>2023-10-08</td>\n",
       "      <td>Arsenal</td>\n",
       "      <td>Man City</td>\n",
       "      <td>H</td>\n",
       "      <td>season23</td>\n",
       "      <td>2.90</td>\n",
       "      <td>3.30</td>\n",
       "      <td>2.40</td>\n",
       "      <td>H</td>\n",
       "      <td>0.377040</td>\n",
       "      <td>0.351175</td>\n",
       "      <td>0.271784</td>\n",
       "      <td>0.344828</td>\n",
       "      <td>0.303030</td>\n",
       "      <td>0.416667</td>\n",
       "      <td>1.064525</td>\n",
       "      <td>A</td>\n",
       "      <td>29.0</td>\n",
       "    </tr>\n",
       "    <tr>\n",
       "      <th>106</th>\n",
       "      <td>2023-11-04</td>\n",
       "      <td>Newcastle</td>\n",
       "      <td>Arsenal</td>\n",
       "      <td>H</td>\n",
       "      <td>season23</td>\n",
       "      <td>2.80</td>\n",
       "      <td>3.20</td>\n",
       "      <td>2.60</td>\n",
       "      <td>H</td>\n",
       "      <td>0.350108</td>\n",
       "      <td>0.308812</td>\n",
       "      <td>0.341080</td>\n",
       "      <td>0.357143</td>\n",
       "      <td>0.312500</td>\n",
       "      <td>0.384615</td>\n",
       "      <td>1.054258</td>\n",
       "      <td>A</td>\n",
       "      <td>28.0</td>\n",
       "    </tr>\n",
       "    <tr>\n",
       "      <th>147</th>\n",
       "      <td>2023-12-06</td>\n",
       "      <td>Man United</td>\n",
       "      <td>Chelsea</td>\n",
       "      <td>H</td>\n",
       "      <td>season23</td>\n",
       "      <td>2.88</td>\n",
       "      <td>3.40</td>\n",
       "      <td>2.45</td>\n",
       "      <td>H</td>\n",
       "      <td>0.345353</td>\n",
       "      <td>0.316069</td>\n",
       "      <td>0.338578</td>\n",
       "      <td>0.347222</td>\n",
       "      <td>0.294118</td>\n",
       "      <td>0.408163</td>\n",
       "      <td>1.049503</td>\n",
       "      <td>A</td>\n",
       "      <td>28.8</td>\n",
       "    </tr>\n",
       "    <tr>\n",
       "      <th>171</th>\n",
       "      <td>2023-12-23</td>\n",
       "      <td>West Ham</td>\n",
       "      <td>Man United</td>\n",
       "      <td>H</td>\n",
       "      <td>season23</td>\n",
       "      <td>2.60</td>\n",
       "      <td>3.60</td>\n",
       "      <td>2.60</td>\n",
       "      <td>A</td>\n",
       "      <td>0.334015</td>\n",
       "      <td>0.301932</td>\n",
       "      <td>0.364053</td>\n",
       "      <td>0.384615</td>\n",
       "      <td>0.277778</td>\n",
       "      <td>0.384615</td>\n",
       "      <td>1.047009</td>\n",
       "      <td>H</td>\n",
       "      <td>0.0</td>\n",
       "    </tr>\n",
       "    <tr>\n",
       "      <th>174</th>\n",
       "      <td>2023-12-23</td>\n",
       "      <td>Nott'm Forest</td>\n",
       "      <td>Bournemouth</td>\n",
       "      <td>A</td>\n",
       "      <td>season23</td>\n",
       "      <td>2.75</td>\n",
       "      <td>3.40</td>\n",
       "      <td>2.55</td>\n",
       "      <td>H</td>\n",
       "      <td>0.352110</td>\n",
       "      <td>0.322750</td>\n",
       "      <td>0.325139</td>\n",
       "      <td>0.363636</td>\n",
       "      <td>0.294118</td>\n",
       "      <td>0.392157</td>\n",
       "      <td>1.049911</td>\n",
       "      <td>A</td>\n",
       "      <td>0.0</td>\n",
       "    </tr>\n",
       "    <tr>\n",
       "      <th>201</th>\n",
       "      <td>2024-01-14</td>\n",
       "      <td>Everton</td>\n",
       "      <td>Aston Villa</td>\n",
       "      <td>D</td>\n",
       "      <td>season23</td>\n",
       "      <td>2.80</td>\n",
       "      <td>3.50</td>\n",
       "      <td>2.45</td>\n",
       "      <td>H</td>\n",
       "      <td>0.348285</td>\n",
       "      <td>0.320796</td>\n",
       "      <td>0.330919</td>\n",
       "      <td>0.357143</td>\n",
       "      <td>0.285714</td>\n",
       "      <td>0.408163</td>\n",
       "      <td>1.051020</td>\n",
       "      <td>A</td>\n",
       "      <td>0.0</td>\n",
       "    </tr>\n",
       "    <tr>\n",
       "      <th>216</th>\n",
       "      <td>2024-02-01</td>\n",
       "      <td>West Ham</td>\n",
       "      <td>Bournemouth</td>\n",
       "      <td>D</td>\n",
       "      <td>season23</td>\n",
       "      <td>2.40</td>\n",
       "      <td>3.75</td>\n",
       "      <td>2.75</td>\n",
       "      <td>A</td>\n",
       "      <td>0.363250</td>\n",
       "      <td>0.269776</td>\n",
       "      <td>0.366973</td>\n",
       "      <td>0.416667</td>\n",
       "      <td>0.266667</td>\n",
       "      <td>0.363636</td>\n",
       "      <td>1.046970</td>\n",
       "      <td>H</td>\n",
       "      <td>0.0</td>\n",
       "    </tr>\n",
       "    <tr>\n",
       "      <th>217</th>\n",
       "      <td>2024-02-01</td>\n",
       "      <td>Wolves</td>\n",
       "      <td>Man United</td>\n",
       "      <td>A</td>\n",
       "      <td>season23</td>\n",
       "      <td>2.63</td>\n",
       "      <td>3.60</td>\n",
       "      <td>2.55</td>\n",
       "      <td>H</td>\n",
       "      <td>0.348953</td>\n",
       "      <td>0.310998</td>\n",
       "      <td>0.340049</td>\n",
       "      <td>0.380228</td>\n",
       "      <td>0.277778</td>\n",
       "      <td>0.392157</td>\n",
       "      <td>1.050163</td>\n",
       "      <td>A</td>\n",
       "      <td>0.0</td>\n",
       "    </tr>\n",
       "    <tr>\n",
       "      <th>229</th>\n",
       "      <td>2024-02-10</td>\n",
       "      <td>Fulham</td>\n",
       "      <td>Bournemouth</td>\n",
       "      <td>H</td>\n",
       "      <td>season23</td>\n",
       "      <td>2.38</td>\n",
       "      <td>3.50</td>\n",
       "      <td>2.80</td>\n",
       "      <td>A</td>\n",
       "      <td>0.348850</td>\n",
       "      <td>0.292015</td>\n",
       "      <td>0.359136</td>\n",
       "      <td>0.420168</td>\n",
       "      <td>0.285714</td>\n",
       "      <td>0.357143</td>\n",
       "      <td>1.063025</td>\n",
       "      <td>H</td>\n",
       "      <td>0.0</td>\n",
       "    </tr>\n",
       "    <tr>\n",
       "      <th>257</th>\n",
       "      <td>2024-02-26</td>\n",
       "      <td>West Ham</td>\n",
       "      <td>Brentford</td>\n",
       "      <td>H</td>\n",
       "      <td>season23</td>\n",
       "      <td>2.50</td>\n",
       "      <td>3.50</td>\n",
       "      <td>2.75</td>\n",
       "      <td>A</td>\n",
       "      <td>0.329437</td>\n",
       "      <td>0.313960</td>\n",
       "      <td>0.356603</td>\n",
       "      <td>0.400000</td>\n",
       "      <td>0.285714</td>\n",
       "      <td>0.363636</td>\n",
       "      <td>1.049351</td>\n",
       "      <td>H</td>\n",
       "      <td>0.0</td>\n",
       "    </tr>\n",
       "    <tr>\n",
       "      <th>282</th>\n",
       "      <td>2024-03-17</td>\n",
       "      <td>West Ham</td>\n",
       "      <td>Aston Villa</td>\n",
       "      <td>D</td>\n",
       "      <td>season23</td>\n",
       "      <td>2.63</td>\n",
       "      <td>3.75</td>\n",
       "      <td>2.45</td>\n",
       "      <td>H</td>\n",
       "      <td>0.381909</td>\n",
       "      <td>0.276904</td>\n",
       "      <td>0.341186</td>\n",
       "      <td>0.380228</td>\n",
       "      <td>0.266667</td>\n",
       "      <td>0.408163</td>\n",
       "      <td>1.055058</td>\n",
       "      <td>A</td>\n",
       "      <td>0.0</td>\n",
       "    </tr>\n",
       "    <tr>\n",
       "      <th>296</th>\n",
       "      <td>2024-04-02</td>\n",
       "      <td>Burnley</td>\n",
       "      <td>Wolves</td>\n",
       "      <td>D</td>\n",
       "      <td>season23</td>\n",
       "      <td>2.45</td>\n",
       "      <td>3.60</td>\n",
       "      <td>2.75</td>\n",
       "      <td>A</td>\n",
       "      <td>0.345874</td>\n",
       "      <td>0.307783</td>\n",
       "      <td>0.346343</td>\n",
       "      <td>0.408163</td>\n",
       "      <td>0.277778</td>\n",
       "      <td>0.363636</td>\n",
       "      <td>1.049577</td>\n",
       "      <td>H</td>\n",
       "      <td>0.0</td>\n",
       "    </tr>\n",
       "    <tr>\n",
       "      <th>332</th>\n",
       "      <td>2024-04-24</td>\n",
       "      <td>Crystal Palace</td>\n",
       "      <td>Newcastle</td>\n",
       "      <td>H</td>\n",
       "      <td>season23</td>\n",
       "      <td>2.75</td>\n",
       "      <td>3.60</td>\n",
       "      <td>2.40</td>\n",
       "      <td>H</td>\n",
       "      <td>0.363500</td>\n",
       "      <td>0.293564</td>\n",
       "      <td>0.342937</td>\n",
       "      <td>0.363636</td>\n",
       "      <td>0.277778</td>\n",
       "      <td>0.416667</td>\n",
       "      <td>1.058081</td>\n",
       "      <td>A</td>\n",
       "      <td>27.5</td>\n",
       "    </tr>\n",
       "    <tr>\n",
       "      <th>353</th>\n",
       "      <td>2024-05-05</td>\n",
       "      <td>Brighton</td>\n",
       "      <td>Aston Villa</td>\n",
       "      <td>H</td>\n",
       "      <td>season23</td>\n",
       "      <td>2.75</td>\n",
       "      <td>3.75</td>\n",
       "      <td>2.45</td>\n",
       "      <td>H</td>\n",
       "      <td>0.345303</td>\n",
       "      <td>0.316047</td>\n",
       "      <td>0.338650</td>\n",
       "      <td>0.363636</td>\n",
       "      <td>0.266667</td>\n",
       "      <td>0.408163</td>\n",
       "      <td>1.038466</td>\n",
       "      <td>A</td>\n",
       "      <td>27.5</td>\n",
       "    </tr>\n",
       "    <tr>\n",
       "      <th>369</th>\n",
       "      <td>2024-05-15</td>\n",
       "      <td>Man United</td>\n",
       "      <td>Newcastle</td>\n",
       "      <td>H</td>\n",
       "      <td>season23</td>\n",
       "      <td>2.75</td>\n",
       "      <td>4.00</td>\n",
       "      <td>2.30</td>\n",
       "      <td>H</td>\n",
       "      <td>0.358833</td>\n",
       "      <td>0.308360</td>\n",
       "      <td>0.332807</td>\n",
       "      <td>0.363636</td>\n",
       "      <td>0.250000</td>\n",
       "      <td>0.434783</td>\n",
       "      <td>1.048419</td>\n",
       "      <td>A</td>\n",
       "      <td>27.5</td>\n",
       "    </tr>\n",
       "  </tbody>\n",
       "</table>\n",
       "</div>"
      ],
      "text/plain": [
       "          Date        HomeTeam     AwayTeam FTR    season  B365H  B365D  \\\n",
       "29  2023-09-01           Luton     West Ham   A  season23   4.75   3.80   \n",
       "50  2023-09-23           Luton       Wolves   D  season23   3.25   3.40   \n",
       "79  2023-10-08         Arsenal     Man City   H  season23   2.90   3.30   \n",
       "106 2023-11-04       Newcastle      Arsenal   H  season23   2.80   3.20   \n",
       "147 2023-12-06      Man United      Chelsea   H  season23   2.88   3.40   \n",
       "171 2023-12-23        West Ham   Man United   H  season23   2.60   3.60   \n",
       "174 2023-12-23   Nott'm Forest  Bournemouth   A  season23   2.75   3.40   \n",
       "201 2024-01-14         Everton  Aston Villa   D  season23   2.80   3.50   \n",
       "216 2024-02-01        West Ham  Bournemouth   D  season23   2.40   3.75   \n",
       "217 2024-02-01          Wolves   Man United   A  season23   2.63   3.60   \n",
       "229 2024-02-10          Fulham  Bournemouth   H  season23   2.38   3.50   \n",
       "257 2024-02-26        West Ham    Brentford   H  season23   2.50   3.50   \n",
       "282 2024-03-17        West Ham  Aston Villa   D  season23   2.63   3.75   \n",
       "296 2024-04-02         Burnley       Wolves   D  season23   2.45   3.60   \n",
       "332 2024-04-24  Crystal Palace    Newcastle   H  season23   2.75   3.60   \n",
       "353 2024-05-05        Brighton  Aston Villa   H  season23   2.75   3.75   \n",
       "369 2024-05-15      Man United    Newcastle   H  season23   2.75   4.00   \n",
       "\n",
       "     B365A predictions   proba_H   proba_D   proba_A  B365H_implied  \\\n",
       "29    1.73           H  0.341156  0.340327  0.318517       0.210526   \n",
       "50    2.20           H  0.391302  0.326213  0.282485       0.307692   \n",
       "79    2.40           H  0.377040  0.351175  0.271784       0.344828   \n",
       "106   2.60           H  0.350108  0.308812  0.341080       0.357143   \n",
       "147   2.45           H  0.345353  0.316069  0.338578       0.347222   \n",
       "171   2.60           A  0.334015  0.301932  0.364053       0.384615   \n",
       "174   2.55           H  0.352110  0.322750  0.325139       0.363636   \n",
       "201   2.45           H  0.348285  0.320796  0.330919       0.357143   \n",
       "216   2.75           A  0.363250  0.269776  0.366973       0.416667   \n",
       "217   2.55           H  0.348953  0.310998  0.340049       0.380228   \n",
       "229   2.80           A  0.348850  0.292015  0.359136       0.420168   \n",
       "257   2.75           A  0.329437  0.313960  0.356603       0.400000   \n",
       "282   2.45           H  0.381909  0.276904  0.341186       0.380228   \n",
       "296   2.75           A  0.345874  0.307783  0.346343       0.408163   \n",
       "332   2.40           H  0.363500  0.293564  0.342937       0.363636   \n",
       "353   2.45           H  0.345303  0.316047  0.338650       0.363636   \n",
       "369   2.30           H  0.358833  0.308360  0.332807       0.363636   \n",
       "\n",
       "     B365D_implied  B365A_implied  B365_total_implied B365_prediction  \\\n",
       "29        0.263158       0.578035            1.051719               A   \n",
       "50        0.294118       0.454545            1.056355               A   \n",
       "79        0.303030       0.416667            1.064525               A   \n",
       "106       0.312500       0.384615            1.054258               A   \n",
       "147       0.294118       0.408163            1.049503               A   \n",
       "171       0.277778       0.384615            1.047009               H   \n",
       "174       0.294118       0.392157            1.049911               A   \n",
       "201       0.285714       0.408163            1.051020               A   \n",
       "216       0.266667       0.363636            1.046970               H   \n",
       "217       0.277778       0.392157            1.050163               A   \n",
       "229       0.285714       0.357143            1.063025               H   \n",
       "257       0.285714       0.363636            1.049351               H   \n",
       "282       0.266667       0.408163            1.055058               A   \n",
       "296       0.277778       0.363636            1.049577               H   \n",
       "332       0.277778       0.416667            1.058081               A   \n",
       "353       0.266667       0.408163            1.038466               A   \n",
       "369       0.250000       0.434783            1.048419               A   \n",
       "\n",
       "     betWinnings  \n",
       "29           0.0  \n",
       "50           0.0  \n",
       "79          29.0  \n",
       "106         28.0  \n",
       "147         28.8  \n",
       "171          0.0  \n",
       "174          0.0  \n",
       "201          0.0  \n",
       "216          0.0  \n",
       "217          0.0  \n",
       "229          0.0  \n",
       "257          0.0  \n",
       "282          0.0  \n",
       "296          0.0  \n",
       "332         27.5  \n",
       "353         27.5  \n",
       "369         27.5  "
      ]
     },
     "execution_count": 82,
     "metadata": {},
     "output_type": "execute_result"
    }
   ],
   "source": [
    "myresults[\n",
    "    ((myresults['predictions'] == 'H') & (myresults['B365_prediction'] == 'A')) |\n",
    "    ((myresults['predictions'] == 'A') & (myresults['B365_prediction'] == 'H'))\n",
    "]"
   ]
  },
  {
   "cell_type": "code",
   "execution_count": 83,
   "id": "eb021c03-aa34-4f89-97d3-ad6b2c69da4c",
   "metadata": {},
   "outputs": [
    {
     "data": {
      "text/plain": [
       "98.0"
      ]
     },
     "execution_count": 83,
     "metadata": {},
     "output_type": "execute_result"
    }
   ],
   "source": [
    "myresults[\n",
    "    ((myresults['predictions'] == 'D')  |(myresults['B365_prediction'] == 'D'))\n",
    "]['betWinnings'].sum()"
   ]
  },
  {
   "cell_type": "code",
   "execution_count": 84,
   "id": "0239fd36-5cd4-46a7-9bf7-38f08691b363",
   "metadata": {},
   "outputs": [
    {
     "data": {
      "text/html": [
       "<div>\n",
       "<style scoped>\n",
       "    .dataframe tbody tr th:only-of-type {\n",
       "        vertical-align: middle;\n",
       "    }\n",
       "\n",
       "    .dataframe tbody tr th {\n",
       "        vertical-align: top;\n",
       "    }\n",
       "\n",
       "    .dataframe thead th {\n",
       "        text-align: right;\n",
       "    }\n",
       "</style>\n",
       "<table border=\"1\" class=\"dataframe\">\n",
       "  <thead>\n",
       "    <tr style=\"text-align: right;\">\n",
       "      <th></th>\n",
       "      <th>Date</th>\n",
       "      <th>HomeTeam</th>\n",
       "      <th>AwayTeam</th>\n",
       "      <th>FTR</th>\n",
       "      <th>season</th>\n",
       "      <th>B365H</th>\n",
       "      <th>B365D</th>\n",
       "      <th>B365A</th>\n",
       "      <th>predictions</th>\n",
       "      <th>proba_H</th>\n",
       "      <th>proba_D</th>\n",
       "      <th>proba_A</th>\n",
       "      <th>B365H_implied</th>\n",
       "      <th>B365D_implied</th>\n",
       "      <th>B365A_implied</th>\n",
       "      <th>B365_total_implied</th>\n",
       "      <th>B365_prediction</th>\n",
       "      <th>betWinnings</th>\n",
       "    </tr>\n",
       "  </thead>\n",
       "  <tbody>\n",
       "    <tr>\n",
       "      <th>67</th>\n",
       "      <td>2023-10-01</td>\n",
       "      <td>Nott'm Forest</td>\n",
       "      <td>Brentford</td>\n",
       "      <td>D</td>\n",
       "      <td>season23</td>\n",
       "      <td>2.75</td>\n",
       "      <td>3.1</td>\n",
       "      <td>2.70</td>\n",
       "      <td>D</td>\n",
       "      <td>0.305801</td>\n",
       "      <td>0.347488</td>\n",
       "      <td>0.346711</td>\n",
       "      <td>0.363636</td>\n",
       "      <td>0.322581</td>\n",
       "      <td>0.370370</td>\n",
       "      <td>1.056587</td>\n",
       "      <td>A</td>\n",
       "      <td>31.0</td>\n",
       "    </tr>\n",
       "    <tr>\n",
       "      <th>75</th>\n",
       "      <td>2023-10-07</td>\n",
       "      <td>Crystal Palace</td>\n",
       "      <td>Nott'm Forest</td>\n",
       "      <td>D</td>\n",
       "      <td>season23</td>\n",
       "      <td>2.20</td>\n",
       "      <td>3.1</td>\n",
       "      <td>3.60</td>\n",
       "      <td>D</td>\n",
       "      <td>0.348247</td>\n",
       "      <td>0.369992</td>\n",
       "      <td>0.281761</td>\n",
       "      <td>0.454545</td>\n",
       "      <td>0.322581</td>\n",
       "      <td>0.277778</td>\n",
       "      <td>1.054904</td>\n",
       "      <td>H</td>\n",
       "      <td>31.0</td>\n",
       "    </tr>\n",
       "    <tr>\n",
       "      <th>347</th>\n",
       "      <td>2024-05-03</td>\n",
       "      <td>Luton</td>\n",
       "      <td>Everton</td>\n",
       "      <td>D</td>\n",
       "      <td>season23</td>\n",
       "      <td>2.60</td>\n",
       "      <td>3.6</td>\n",
       "      <td>2.55</td>\n",
       "      <td>D</td>\n",
       "      <td>0.333275</td>\n",
       "      <td>0.338458</td>\n",
       "      <td>0.328267</td>\n",
       "      <td>0.384615</td>\n",
       "      <td>0.277778</td>\n",
       "      <td>0.392157</td>\n",
       "      <td>1.054550</td>\n",
       "      <td>A</td>\n",
       "      <td>36.0</td>\n",
       "    </tr>\n",
       "    <tr>\n",
       "      <th>372</th>\n",
       "      <td>2024-05-19</td>\n",
       "      <td>Brighton</td>\n",
       "      <td>Man United</td>\n",
       "      <td>A</td>\n",
       "      <td>season23</td>\n",
       "      <td>2.15</td>\n",
       "      <td>4.0</td>\n",
       "      <td>2.90</td>\n",
       "      <td>D</td>\n",
       "      <td>0.342477</td>\n",
       "      <td>0.350862</td>\n",
       "      <td>0.306661</td>\n",
       "      <td>0.465116</td>\n",
       "      <td>0.250000</td>\n",
       "      <td>0.344828</td>\n",
       "      <td>1.059944</td>\n",
       "      <td>H</td>\n",
       "      <td>0.0</td>\n",
       "    </tr>\n",
       "  </tbody>\n",
       "</table>\n",
       "</div>"
      ],
      "text/plain": [
       "          Date        HomeTeam       AwayTeam FTR    season  B365H  B365D  \\\n",
       "67  2023-10-01   Nott'm Forest      Brentford   D  season23   2.75    3.1   \n",
       "75  2023-10-07  Crystal Palace  Nott'm Forest   D  season23   2.20    3.1   \n",
       "347 2024-05-03           Luton        Everton   D  season23   2.60    3.6   \n",
       "372 2024-05-19        Brighton     Man United   A  season23   2.15    4.0   \n",
       "\n",
       "     B365A predictions   proba_H   proba_D   proba_A  B365H_implied  \\\n",
       "67    2.70           D  0.305801  0.347488  0.346711       0.363636   \n",
       "75    3.60           D  0.348247  0.369992  0.281761       0.454545   \n",
       "347   2.55           D  0.333275  0.338458  0.328267       0.384615   \n",
       "372   2.90           D  0.342477  0.350862  0.306661       0.465116   \n",
       "\n",
       "     B365D_implied  B365A_implied  B365_total_implied B365_prediction  \\\n",
       "67        0.322581       0.370370            1.056587               A   \n",
       "75        0.322581       0.277778            1.054904               H   \n",
       "347       0.277778       0.392157            1.054550               A   \n",
       "372       0.250000       0.344828            1.059944               H   \n",
       "\n",
       "     betWinnings  \n",
       "67          31.0  \n",
       "75          31.0  \n",
       "347         36.0  \n",
       "372          0.0  "
      ]
     },
     "execution_count": 84,
     "metadata": {},
     "output_type": "execute_result"
    }
   ],
   "source": [
    "myresults[\n",
    "    ((myresults['predictions'] == 'D')  |(myresults['B365_prediction'] == 'D'))\n",
    "]"
   ]
  },
  {
   "cell_type": "code",
   "execution_count": null,
   "id": "20cd2b7d-462d-4210-b13b-fe57d2b946dd",
   "metadata": {},
   "outputs": [],
   "source": []
  },
  {
   "cell_type": "code",
   "execution_count": null,
   "id": "cc89ff48-216b-4c08-b48a-77ebc887ddad",
   "metadata": {},
   "outputs": [],
   "source": []
  },
  {
   "cell_type": "markdown",
   "id": "53c128b9-50f0-4256-ab37-525f861795ad",
   "metadata": {},
   "source": [
    "Should I bet on a draw when my odds differ with bet365?"
   ]
  },
  {
   "cell_type": "code",
   "execution_count": 90,
   "id": "5150953b-fa36-44d4-8abe-8660ef292b83",
   "metadata": {},
   "outputs": [],
   "source": [
    "# Create the 'betWinningsDraw' column\n",
    "myresults['betWinningsDraw'] = np.where(\n",
    "    'D' == myresults['FTR'],  # Check if the prediction matches the actual result\n",
    "    myresults.apply(\n",
    "        lambda row: 10 * row[f\"B365{row['FTR']}\"], axis=1  # Multiply by the corresponding odds column\n",
    "    ),\n",
    "    0  # If prediction is incorrect, winnings are 0\n",
    ")"
   ]
  },
  {
   "cell_type": "code",
   "execution_count": 92,
   "id": "1eb7c787-2682-468f-9d1d-e289f40242e3",
   "metadata": {},
   "outputs": [
    {
     "data": {
      "text/plain": [
       "17"
      ]
     },
     "execution_count": 92,
     "metadata": {},
     "output_type": "execute_result"
    }
   ],
   "source": [
    "len(myresults[\n",
    "    ((myresults['predictions'] == 'H') & (myresults['B365_prediction'] == 'A')) |\n",
    "    ((myresults['predictions'] == 'A') & (myresults['B365_prediction'] == 'H'))\n",
    "])"
   ]
  },
  {
   "cell_type": "code",
   "execution_count": 91,
   "id": "84e8b6fc-75ad-47d5-b99e-3349af9d7d40",
   "metadata": {},
   "outputs": [
    {
     "data": {
      "text/plain": [
       "180.0"
      ]
     },
     "execution_count": 91,
     "metadata": {},
     "output_type": "execute_result"
    }
   ],
   "source": [
    "myresults[\n",
    "    ((myresults['predictions'] == 'H') & (myresults['B365_prediction'] == 'A')) |\n",
    "    ((myresults['predictions'] == 'A') & (myresults['B365_prediction'] == 'H'))\n",
    "]['betWinningsDraw'].sum()"
   ]
  },
  {
   "cell_type": "code",
   "execution_count": 67,
   "id": "16f72bcd-758a-4d04-b86a-a432492f59ee",
   "metadata": {},
   "outputs": [],
   "source": [
    "# Create the 'betWinnings' column\n",
    "myresults['betWinningsBet365'] = np.where(\n",
    "    myresults['B365_prediction'] == myresults['FTR'],  # Check if the prediction matches the actual result\n",
    "    myresults.apply(\n",
    "        lambda row: 10 * row[f\"B365{row['FTR']}\"], axis=1  # Multiply by the corresponding odds column\n",
    "    ),\n",
    "    0  # If prediction is incorrect, winnings are 0\n",
    ")"
   ]
  },
  {
   "cell_type": "code",
   "execution_count": 68,
   "id": "484d14cb-bdd4-4541-a17d-c6dda5b1d2f6",
   "metadata": {},
   "outputs": [
    {
     "data": {
      "text/plain": [
       "174.5"
      ]
     },
     "execution_count": 68,
     "metadata": {},
     "output_type": "execute_result"
    }
   ],
   "source": [
    "myresults[\n",
    "    ((myresults['predictions'] == 'H') & (myresults['B365_prediction'] == 'A')) |\n",
    "    ((myresults['predictions'] == 'A') & (myresults['B365_prediction'] == 'H'))\n",
    "]['betWinningsBet365'].sum()"
   ]
  },
  {
   "cell_type": "code",
   "execution_count": 63,
   "id": "4fbdb474-bb22-43f7-9642-e76f440856be",
   "metadata": {},
   "outputs": [
    {
     "data": {
      "text/plain": [
       "67     31.0\n",
       "347    36.0\n",
       "363     0.0\n",
       "Name: betWinnings, dtype: float64"
      ]
     },
     "execution_count": 63,
     "metadata": {},
     "output_type": "execute_result"
    }
   ],
   "source": [
    "myresults[myresults['predictions']=='D']['betWinnings']"
   ]
  },
  {
   "cell_type": "code",
   "execution_count": null,
   "id": "1042fd90-9696-4c2f-815b-ca0efc8b12ac",
   "metadata": {},
   "outputs": [],
   "source": []
  },
  {
   "cell_type": "code",
   "execution_count": null,
   "id": "cd86d193-c1bf-49d7-95d6-7ebb38dc0ba0",
   "metadata": {},
   "outputs": [],
   "source": []
  },
  {
   "cell_type": "code",
   "execution_count": null,
   "id": "bb71db97-d85f-4f78-b5d6-e270eeb0ceb5",
   "metadata": {},
   "outputs": [],
   "source": []
  },
  {
   "cell_type": "code",
   "execution_count": 70,
   "id": "d5833110-996c-4351-845f-d7303011adcc",
   "metadata": {},
   "outputs": [
    {
     "data": {
      "text/plain": [
       "Index(['Date', 'HomeTeam', 'AwayTeam', 'FTR', 'season', 'B365H', 'B365D',\n",
       "       'B365A', 'predictions', 'proba_H', 'proba_D', 'proba_A',\n",
       "       'B365H_implied', 'B365D_implied', 'B365A_implied', 'B365_total_implied',\n",
       "       'B365_prediction', 'betWinnings', 'betWinningsDraw',\n",
       "       'betWinningsBet365'],\n",
       "      dtype='object')"
      ]
     },
     "execution_count": 70,
     "metadata": {},
     "output_type": "execute_result"
    }
   ],
   "source": [
    "myresults.columns"
   ]
  },
  {
   "cell_type": "code",
   "execution_count": 22,
   "id": "195f7555-9c5b-4a22-af29-618bfce03e04",
   "metadata": {},
   "outputs": [
    {
     "data": {
      "text/plain": [
       "781"
      ]
     },
     "execution_count": 22,
     "metadata": {},
     "output_type": "execute_result"
    }
   ],
   "source": [
    "len(myresults[myresults['predictions']!=myresults['B365_prediction']])"
   ]
  },
  {
   "cell_type": "code",
   "execution_count": 23,
   "id": "49efa029-3d0f-4e97-a1a0-287b1f02c5ae",
   "metadata": {},
   "outputs": [
    {
     "data": {
      "text/plain": [
       "211.6"
      ]
     },
     "execution_count": 23,
     "metadata": {},
     "output_type": "execute_result"
    }
   ],
   "source": [
    "myresults[myresults['predictions']!=myresults['B365_prediction']]['betWinnings'].sum()"
   ]
  },
  {
   "cell_type": "code",
   "execution_count": null,
   "id": "10cab9c7-590b-4a31-994f-852ae1dd359c",
   "metadata": {},
   "outputs": [],
   "source": []
  },
  {
   "cell_type": "code",
   "execution_count": 24,
   "id": "2cfae1d3-6d12-48fa-9e1a-5b2c5da6b352",
   "metadata": {},
   "outputs": [
    {
     "data": {
      "text/plain": [
       "predictions\n",
       "H    83\n",
       "A    52\n",
       "Name: count, dtype: int64"
      ]
     },
     "execution_count": 24,
     "metadata": {},
     "output_type": "execute_result"
    }
   ],
   "source": [
    "myresults[myresults['proba_H']>myresults['B365H_implied']]['predictions'].value_counts()"
   ]
  },
  {
   "cell_type": "code",
   "execution_count": 25,
   "id": "2c87c3d9-e89b-42b1-89e0-94beb15e818a",
   "metadata": {},
   "outputs": [
    {
     "data": {
      "text/plain": [
       "predictions\n",
       "H    72\n",
       "A    59\n",
       "Name: count, dtype: int64"
      ]
     },
     "execution_count": 25,
     "metadata": {},
     "output_type": "execute_result"
    }
   ],
   "source": [
    "myresults[myresults['proba_A']>myresults['B365A_implied']]['predictions'].value_counts()"
   ]
  },
  {
   "cell_type": "code",
   "execution_count": 26,
   "id": "8b6839c1-48e8-406b-8256-10cf33dcd15f",
   "metadata": {},
   "outputs": [],
   "source": [
    "myHomeBets=myresults[myresults['proba_H']>1.2*myresults['B365H_implied']]"
   ]
  },
  {
   "cell_type": "code",
   "execution_count": 27,
   "id": "62abd25c-c6be-43e9-bb55-c250b1368403",
   "metadata": {},
   "outputs": [],
   "source": [
    "myHomeBets=myHomeBets.copy()"
   ]
  },
  {
   "cell_type": "code",
   "execution_count": 28,
   "id": "407bea5f-9b71-4494-9bba-a8e5631ab04b",
   "metadata": {},
   "outputs": [],
   "source": [
    "\n",
    "\n",
    "myHomeBets['B365H_multiplied'] = np.where(myHomeBets['FTR'] == 'H', myHomeBets['B365H'] * 10, np.nan)\n"
   ]
  },
  {
   "cell_type": "code",
   "execution_count": 29,
   "id": "4182c350-a2c7-4dc4-9c0b-44a493ce13a4",
   "metadata": {},
   "outputs": [
    {
     "data": {
      "text/plain": [
       "31.0"
      ]
     },
     "execution_count": 29,
     "metadata": {},
     "output_type": "execute_result"
    }
   ],
   "source": [
    "myHomeBets['B365H_multiplied'].sum()"
   ]
  },
  {
   "cell_type": "code",
   "execution_count": 30,
   "id": "62407e82-2eda-49e3-9c67-db0c736d8ef8",
   "metadata": {},
   "outputs": [],
   "source": [
    "#len(myHomeBets)"
   ]
  },
  {
   "cell_type": "code",
   "execution_count": 31,
   "id": "e96d4990-4bfd-42de-8f62-3107d33f26c1",
   "metadata": {},
   "outputs": [],
   "source": [
    "myAwayBets=myresults[myresults['proba_A']>1.1*myresults['B365A_implied']]"
   ]
  },
  {
   "cell_type": "code",
   "execution_count": 32,
   "id": "19495036-67c7-4ade-aa47-33188f262aba",
   "metadata": {},
   "outputs": [],
   "source": [
    "myAwayBets=myAwayBets.copy()"
   ]
  },
  {
   "cell_type": "code",
   "execution_count": 33,
   "id": "6a5f18e8-bfe0-4d42-8168-dd16ea4dbd0b",
   "metadata": {},
   "outputs": [
    {
     "data": {
      "text/plain": [
       "48"
      ]
     },
     "execution_count": 33,
     "metadata": {},
     "output_type": "execute_result"
    }
   ],
   "source": [
    "len(myAwayBets)"
   ]
  },
  {
   "cell_type": "code",
   "execution_count": 34,
   "id": "072c4cad-1b29-401b-9b55-78244a4d002a",
   "metadata": {},
   "outputs": [],
   "source": [
    "myAwayBets['B365A_multiplied'] = np.where(myAwayBets['FTR'] == 'A', myAwayBets['B365A'] * 10, np.nan)"
   ]
  },
  {
   "cell_type": "code",
   "execution_count": 35,
   "id": "a5f29b5b-25fd-412f-a998-3c3ae5de6bae",
   "metadata": {},
   "outputs": [
    {
     "data": {
      "text/plain": [
       "626.8"
      ]
     },
     "execution_count": 35,
     "metadata": {},
     "output_type": "execute_result"
    }
   ],
   "source": [
    "myAwayBets['B365A_multiplied'].sum()"
   ]
  },
  {
   "cell_type": "code",
   "execution_count": 36,
   "id": "f6a8cc03-505a-4303-a93a-535d219cde04",
   "metadata": {},
   "outputs": [
    {
     "data": {
      "text/plain": [
       "1.3058333333333332"
      ]
     },
     "execution_count": 36,
     "metadata": {},
     "output_type": "execute_result"
    }
   ],
   "source": [
    "626.8/480"
   ]
  },
  {
   "cell_type": "code",
   "execution_count": null,
   "id": "0220bf07-2ee2-41a5-a784-79a2825cd11c",
   "metadata": {},
   "outputs": [],
   "source": []
  },
  {
   "cell_type": "markdown",
   "id": "f7add8c7-c405-481d-894d-46d54b81c955",
   "metadata": {},
   "source": [
    "## Checking if i should bet when i predict a 10% more likely outcome"
   ]
  },
  {
   "cell_type": "code",
   "execution_count": 18,
   "id": "81aa4327-4ece-4fe2-81b1-c0dbbdf0e134",
   "metadata": {},
   "outputs": [
    {
     "data": {
      "text/plain": [
       "check_condition\n",
       "True     269\n",
       "False    111\n",
       "Name: count, dtype: int64"
      ]
     },
     "execution_count": 18,
     "metadata": {},
     "output_type": "execute_result"
    }
   ],
   "source": [
    "myresults['check_condition'].value_counts()"
   ]
  },
  {
   "cell_type": "code",
   "execution_count": 53,
   "id": "9f2ba290-3e63-4174-9441-632128708f10",
   "metadata": {},
   "outputs": [],
   "source": [
    "def get_triggered_clause(row):\n",
    "    if row['proba_H'] > row['B365H_implied'] * 2:\n",
    "        return 'H'\n",
    "    elif row['proba_D'] > row['B365D_implied'] * 2:\n",
    "        return 'D'\n",
    "    elif row['proba_A'] > row['B365A_implied'] * 2:\n",
    "        return 'A'\n",
    "    return 'None'"
   ]
  },
  {
   "cell_type": "code",
   "execution_count": 54,
   "id": "f821910f-09c1-4423-ba56-d657e380c800",
   "metadata": {},
   "outputs": [],
   "source": [
    "myresults['check_condition'] = (\n",
    "    (myresults['proba_H'] > myresults['B365H_implied'] * 2) |\n",
    "    (myresults['proba_D'] > myresults['B365D_implied'] * 2) |\n",
    "    (myresults['proba_A'] > myresults['B365A_implied'] * 2)\n",
    ")"
   ]
  },
  {
   "cell_type": "code",
   "execution_count": 55,
   "id": "becc1b75-12e7-470d-9677-39b65ef748eb",
   "metadata": {},
   "outputs": [
    {
     "data": {
      "text/plain": [
       "check_condition\n",
       "False    335\n",
       "True      45\n",
       "Name: count, dtype: int64"
      ]
     },
     "execution_count": 55,
     "metadata": {},
     "output_type": "execute_result"
    }
   ],
   "source": [
    "myresults['check_condition'].value_counts()"
   ]
  },
  {
   "cell_type": "code",
   "execution_count": 56,
   "id": "c43a1a89-48b1-4baa-87cb-27c7f09369ea",
   "metadata": {},
   "outputs": [],
   "source": [
    "myresults['triggered_clause'] = myresults.apply(get_triggered_clause, axis=1)"
   ]
  },
  {
   "cell_type": "code",
   "execution_count": 57,
   "id": "668ba31b-9843-4e93-b62c-fc7ba524f478",
   "metadata": {},
   "outputs": [
    {
     "data": {
      "text/plain": [
       "triggered_clause\n",
       "None    335\n",
       "A        32\n",
       "H         7\n",
       "D         6\n",
       "Name: count, dtype: int64"
      ]
     },
     "execution_count": 57,
     "metadata": {},
     "output_type": "execute_result"
    }
   ],
   "source": [
    "myresults['triggered_clause'].value_counts()"
   ]
  },
  {
   "cell_type": "code",
   "execution_count": 58,
   "id": "4306f828-0157-47c7-a1c0-da30159c8283",
   "metadata": {},
   "outputs": [],
   "source": [
    "def check_and_multiply(row):\n",
    "    if row['triggered_clause'] == row['FTR']:\n",
    "        if row['triggered_clause'] == 'H':\n",
    "            return 10 * row['B365H']\n",
    "        elif row['triggered_clause'] == 'D':\n",
    "            return 10 * row['B365D']\n",
    "        elif row['triggered_clause'] == 'A':\n",
    "            return 10 * row['B365A']\n",
    "    return 0  # Return 0 if they are not the same"
   ]
  },
  {
   "cell_type": "code",
   "execution_count": 59,
   "id": "b6e2bd6d-b990-4584-9305-a8ba2ab037f3",
   "metadata": {},
   "outputs": [],
   "source": [
    "myresults['calculated_value'] = myresults.apply(check_and_multiply, axis=1)"
   ]
  },
  {
   "cell_type": "code",
   "execution_count": 60,
   "id": "4daf4886-0381-4e20-989c-e469f546b753",
   "metadata": {},
   "outputs": [
    {
     "data": {
      "text/plain": [
       "120.0"
      ]
     },
     "execution_count": 60,
     "metadata": {},
     "output_type": "execute_result"
    }
   ],
   "source": [
    "myresults['calculated_value'].sum()"
   ]
  },
  {
   "cell_type": "code",
   "execution_count": 61,
   "id": "8b57ea61-5945-40ec-96b6-6c6c9b6fcdcb",
   "metadata": {},
   "outputs": [
    {
     "data": {
      "text/plain": [
       "triggered_clause\n",
       "A       120.0\n",
       "D         0.0\n",
       "H         0.0\n",
       "None      0.0\n",
       "Name: calculated_value, dtype: float64"
      ]
     },
     "execution_count": 61,
     "metadata": {},
     "output_type": "execute_result"
    }
   ],
   "source": [
    "myresults.groupby('triggered_clause')['calculated_value'].sum()"
   ]
  },
  {
   "cell_type": "code",
   "execution_count": null,
   "id": "19c73bed-277a-4fe5-b60b-47bc3570be55",
   "metadata": {},
   "outputs": [],
   "source": []
  },
  {
   "cell_type": "code",
   "execution_count": null,
   "id": "28f60a3a-af66-4b8b-919a-6358f25c339a",
   "metadata": {},
   "outputs": [],
   "source": []
  },
  {
   "cell_type": "code",
   "execution_count": 93,
   "id": "5ccfcb18-f121-4ea6-8714-685352ee3087",
   "metadata": {},
   "outputs": [
    {
     "data": {
      "text/html": [
       "<div>\n",
       "<style scoped>\n",
       "    .dataframe tbody tr th:only-of-type {\n",
       "        vertical-align: middle;\n",
       "    }\n",
       "\n",
       "    .dataframe tbody tr th {\n",
       "        vertical-align: top;\n",
       "    }\n",
       "\n",
       "    .dataframe thead th {\n",
       "        text-align: right;\n",
       "    }\n",
       "</style>\n",
       "<table border=\"1\" class=\"dataframe\">\n",
       "  <thead>\n",
       "    <tr style=\"text-align: right;\">\n",
       "      <th></th>\n",
       "      <th>Date</th>\n",
       "      <th>HomeTeam</th>\n",
       "      <th>AwayTeam</th>\n",
       "      <th>FTR</th>\n",
       "      <th>season</th>\n",
       "      <th>B365H</th>\n",
       "      <th>B365D</th>\n",
       "      <th>B365A</th>\n",
       "      <th>predictions</th>\n",
       "      <th>proba_H</th>\n",
       "      <th>proba_D</th>\n",
       "      <th>proba_A</th>\n",
       "      <th>B365H_implied</th>\n",
       "      <th>B365D_implied</th>\n",
       "      <th>B365A_implied</th>\n",
       "      <th>B365_total_implied</th>\n",
       "      <th>B365_prediction</th>\n",
       "      <th>betWinnings</th>\n",
       "      <th>betWinningsDraw</th>\n",
       "    </tr>\n",
       "  </thead>\n",
       "  <tbody>\n",
       "    <tr>\n",
       "      <th>0</th>\n",
       "      <td>2023-08-11</td>\n",
       "      <td>Burnley</td>\n",
       "      <td>Man City</td>\n",
       "      <td>A</td>\n",
       "      <td>season23</td>\n",
       "      <td>8.00</td>\n",
       "      <td>5.50</td>\n",
       "      <td>1.33</td>\n",
       "      <td>A</td>\n",
       "      <td>0.208388</td>\n",
       "      <td>0.243915</td>\n",
       "      <td>0.547697</td>\n",
       "      <td>0.125000</td>\n",
       "      <td>0.181818</td>\n",
       "      <td>0.751880</td>\n",
       "      <td>1.058698</td>\n",
       "      <td>A</td>\n",
       "      <td>13.3</td>\n",
       "      <td>0.0</td>\n",
       "    </tr>\n",
       "    <tr>\n",
       "      <th>1</th>\n",
       "      <td>2023-08-12</td>\n",
       "      <td>Arsenal</td>\n",
       "      <td>Nott'm Forest</td>\n",
       "      <td>H</td>\n",
       "      <td>season23</td>\n",
       "      <td>1.18</td>\n",
       "      <td>7.00</td>\n",
       "      <td>15.00</td>\n",
       "      <td>H</td>\n",
       "      <td>0.658375</td>\n",
       "      <td>0.171784</td>\n",
       "      <td>0.169841</td>\n",
       "      <td>0.847458</td>\n",
       "      <td>0.142857</td>\n",
       "      <td>0.066667</td>\n",
       "      <td>1.056981</td>\n",
       "      <td>H</td>\n",
       "      <td>11.8</td>\n",
       "      <td>0.0</td>\n",
       "    </tr>\n",
       "    <tr>\n",
       "      <th>2</th>\n",
       "      <td>2023-08-12</td>\n",
       "      <td>Bournemouth</td>\n",
       "      <td>West Ham</td>\n",
       "      <td>D</td>\n",
       "      <td>season23</td>\n",
       "      <td>2.70</td>\n",
       "      <td>3.40</td>\n",
       "      <td>2.55</td>\n",
       "      <td>A</td>\n",
       "      <td>0.340656</td>\n",
       "      <td>0.311815</td>\n",
       "      <td>0.347529</td>\n",
       "      <td>0.370370</td>\n",
       "      <td>0.294118</td>\n",
       "      <td>0.392157</td>\n",
       "      <td>1.056645</td>\n",
       "      <td>A</td>\n",
       "      <td>0.0</td>\n",
       "      <td>34.0</td>\n",
       "    </tr>\n",
       "    <tr>\n",
       "      <th>3</th>\n",
       "      <td>2023-08-12</td>\n",
       "      <td>Brighton</td>\n",
       "      <td>Luton</td>\n",
       "      <td>H</td>\n",
       "      <td>season23</td>\n",
       "      <td>1.33</td>\n",
       "      <td>5.50</td>\n",
       "      <td>9.00</td>\n",
       "      <td>H</td>\n",
       "      <td>0.544671</td>\n",
       "      <td>0.245741</td>\n",
       "      <td>0.209588</td>\n",
       "      <td>0.751880</td>\n",
       "      <td>0.181818</td>\n",
       "      <td>0.111111</td>\n",
       "      <td>1.044809</td>\n",
       "      <td>H</td>\n",
       "      <td>13.3</td>\n",
       "      <td>0.0</td>\n",
       "    </tr>\n",
       "    <tr>\n",
       "      <th>4</th>\n",
       "      <td>2023-08-12</td>\n",
       "      <td>Everton</td>\n",
       "      <td>Fulham</td>\n",
       "      <td>A</td>\n",
       "      <td>season23</td>\n",
       "      <td>2.20</td>\n",
       "      <td>3.40</td>\n",
       "      <td>3.30</td>\n",
       "      <td>H</td>\n",
       "      <td>0.364506</td>\n",
       "      <td>0.303388</td>\n",
       "      <td>0.332106</td>\n",
       "      <td>0.454545</td>\n",
       "      <td>0.294118</td>\n",
       "      <td>0.303030</td>\n",
       "      <td>1.051693</td>\n",
       "      <td>H</td>\n",
       "      <td>0.0</td>\n",
       "      <td>0.0</td>\n",
       "    </tr>\n",
       "    <tr>\n",
       "      <th>...</th>\n",
       "      <td>...</td>\n",
       "      <td>...</td>\n",
       "      <td>...</td>\n",
       "      <td>...</td>\n",
       "      <td>...</td>\n",
       "      <td>...</td>\n",
       "      <td>...</td>\n",
       "      <td>...</td>\n",
       "      <td>...</td>\n",
       "      <td>...</td>\n",
       "      <td>...</td>\n",
       "      <td>...</td>\n",
       "      <td>...</td>\n",
       "      <td>...</td>\n",
       "      <td>...</td>\n",
       "      <td>...</td>\n",
       "      <td>...</td>\n",
       "      <td>...</td>\n",
       "      <td>...</td>\n",
       "    </tr>\n",
       "    <tr>\n",
       "      <th>375</th>\n",
       "      <td>2024-05-19</td>\n",
       "      <td>Crystal Palace</td>\n",
       "      <td>Aston Villa</td>\n",
       "      <td>H</td>\n",
       "      <td>season23</td>\n",
       "      <td>1.85</td>\n",
       "      <td>4.33</td>\n",
       "      <td>3.60</td>\n",
       "      <td>H</td>\n",
       "      <td>0.429992</td>\n",
       "      <td>0.279912</td>\n",
       "      <td>0.290096</td>\n",
       "      <td>0.540541</td>\n",
       "      <td>0.230947</td>\n",
       "      <td>0.277778</td>\n",
       "      <td>1.049265</td>\n",
       "      <td>H</td>\n",
       "      <td>18.5</td>\n",
       "      <td>0.0</td>\n",
       "    </tr>\n",
       "    <tr>\n",
       "      <th>376</th>\n",
       "      <td>2024-05-19</td>\n",
       "      <td>Liverpool</td>\n",
       "      <td>Wolves</td>\n",
       "      <td>H</td>\n",
       "      <td>season23</td>\n",
       "      <td>1.17</td>\n",
       "      <td>8.00</td>\n",
       "      <td>15.00</td>\n",
       "      <td>H</td>\n",
       "      <td>0.586533</td>\n",
       "      <td>0.227369</td>\n",
       "      <td>0.186098</td>\n",
       "      <td>0.854701</td>\n",
       "      <td>0.125000</td>\n",
       "      <td>0.066667</td>\n",
       "      <td>1.046368</td>\n",
       "      <td>H</td>\n",
       "      <td>11.7</td>\n",
       "      <td>0.0</td>\n",
       "    </tr>\n",
       "    <tr>\n",
       "      <th>377</th>\n",
       "      <td>2024-05-19</td>\n",
       "      <td>Luton</td>\n",
       "      <td>Fulham</td>\n",
       "      <td>A</td>\n",
       "      <td>season23</td>\n",
       "      <td>2.90</td>\n",
       "      <td>3.90</td>\n",
       "      <td>2.20</td>\n",
       "      <td>A</td>\n",
       "      <td>0.321672</td>\n",
       "      <td>0.255968</td>\n",
       "      <td>0.422360</td>\n",
       "      <td>0.344828</td>\n",
       "      <td>0.256410</td>\n",
       "      <td>0.454545</td>\n",
       "      <td>1.055783</td>\n",
       "      <td>A</td>\n",
       "      <td>22.0</td>\n",
       "      <td>0.0</td>\n",
       "    </tr>\n",
       "    <tr>\n",
       "      <th>378</th>\n",
       "      <td>2024-05-19</td>\n",
       "      <td>Man City</td>\n",
       "      <td>West Ham</td>\n",
       "      <td>H</td>\n",
       "      <td>season23</td>\n",
       "      <td>1.08</td>\n",
       "      <td>12.00</td>\n",
       "      <td>21.00</td>\n",
       "      <td>H</td>\n",
       "      <td>0.601762</td>\n",
       "      <td>0.230930</td>\n",
       "      <td>0.167309</td>\n",
       "      <td>0.925926</td>\n",
       "      <td>0.083333</td>\n",
       "      <td>0.047619</td>\n",
       "      <td>1.056878</td>\n",
       "      <td>H</td>\n",
       "      <td>10.8</td>\n",
       "      <td>0.0</td>\n",
       "    </tr>\n",
       "    <tr>\n",
       "      <th>379</th>\n",
       "      <td>2024-05-19</td>\n",
       "      <td>Sheffield United</td>\n",
       "      <td>Tottenham</td>\n",
       "      <td>A</td>\n",
       "      <td>season23</td>\n",
       "      <td>7.00</td>\n",
       "      <td>6.00</td>\n",
       "      <td>1.33</td>\n",
       "      <td>A</td>\n",
       "      <td>0.219927</td>\n",
       "      <td>0.245820</td>\n",
       "      <td>0.534254</td>\n",
       "      <td>0.142857</td>\n",
       "      <td>0.166667</td>\n",
       "      <td>0.751880</td>\n",
       "      <td>1.061404</td>\n",
       "      <td>A</td>\n",
       "      <td>13.3</td>\n",
       "      <td>0.0</td>\n",
       "    </tr>\n",
       "  </tbody>\n",
       "</table>\n",
       "<p>380 rows × 19 columns</p>\n",
       "</div>"
      ],
      "text/plain": [
       "          Date          HomeTeam       AwayTeam FTR    season  B365H  B365D  \\\n",
       "0   2023-08-11           Burnley       Man City   A  season23   8.00   5.50   \n",
       "1   2023-08-12           Arsenal  Nott'm Forest   H  season23   1.18   7.00   \n",
       "2   2023-08-12       Bournemouth       West Ham   D  season23   2.70   3.40   \n",
       "3   2023-08-12          Brighton          Luton   H  season23   1.33   5.50   \n",
       "4   2023-08-12           Everton         Fulham   A  season23   2.20   3.40   \n",
       "..         ...               ...            ...  ..       ...    ...    ...   \n",
       "375 2024-05-19    Crystal Palace    Aston Villa   H  season23   1.85   4.33   \n",
       "376 2024-05-19         Liverpool         Wolves   H  season23   1.17   8.00   \n",
       "377 2024-05-19             Luton         Fulham   A  season23   2.90   3.90   \n",
       "378 2024-05-19          Man City       West Ham   H  season23   1.08  12.00   \n",
       "379 2024-05-19  Sheffield United      Tottenham   A  season23   7.00   6.00   \n",
       "\n",
       "     B365A predictions   proba_H   proba_D   proba_A  B365H_implied  \\\n",
       "0     1.33           A  0.208388  0.243915  0.547697       0.125000   \n",
       "1    15.00           H  0.658375  0.171784  0.169841       0.847458   \n",
       "2     2.55           A  0.340656  0.311815  0.347529       0.370370   \n",
       "3     9.00           H  0.544671  0.245741  0.209588       0.751880   \n",
       "4     3.30           H  0.364506  0.303388  0.332106       0.454545   \n",
       "..     ...         ...       ...       ...       ...            ...   \n",
       "375   3.60           H  0.429992  0.279912  0.290096       0.540541   \n",
       "376  15.00           H  0.586533  0.227369  0.186098       0.854701   \n",
       "377   2.20           A  0.321672  0.255968  0.422360       0.344828   \n",
       "378  21.00           H  0.601762  0.230930  0.167309       0.925926   \n",
       "379   1.33           A  0.219927  0.245820  0.534254       0.142857   \n",
       "\n",
       "     B365D_implied  B365A_implied  B365_total_implied B365_prediction  \\\n",
       "0         0.181818       0.751880            1.058698               A   \n",
       "1         0.142857       0.066667            1.056981               H   \n",
       "2         0.294118       0.392157            1.056645               A   \n",
       "3         0.181818       0.111111            1.044809               H   \n",
       "4         0.294118       0.303030            1.051693               H   \n",
       "..             ...            ...                 ...             ...   \n",
       "375       0.230947       0.277778            1.049265               H   \n",
       "376       0.125000       0.066667            1.046368               H   \n",
       "377       0.256410       0.454545            1.055783               A   \n",
       "378       0.083333       0.047619            1.056878               H   \n",
       "379       0.166667       0.751880            1.061404               A   \n",
       "\n",
       "     betWinnings  betWinningsDraw  \n",
       "0           13.3              0.0  \n",
       "1           11.8              0.0  \n",
       "2            0.0             34.0  \n",
       "3           13.3              0.0  \n",
       "4            0.0              0.0  \n",
       "..           ...              ...  \n",
       "375         18.5              0.0  \n",
       "376         11.7              0.0  \n",
       "377         22.0              0.0  \n",
       "378         10.8              0.0  \n",
       "379         13.3              0.0  \n",
       "\n",
       "[380 rows x 19 columns]"
      ]
     },
     "execution_count": 93,
     "metadata": {},
     "output_type": "execute_result"
    }
   ],
   "source": [
    "myresults"
   ]
  },
  {
   "cell_type": "code",
   "execution_count": null,
   "id": "bc53c9e4-8ab4-47b4-b501-25d9b8c6298c",
   "metadata": {},
   "outputs": [],
   "source": []
  }
 ],
 "metadata": {
  "kernelspec": {
   "display_name": "Python 3 (ipykernel)",
   "language": "python",
   "name": "python3"
  },
  "language_info": {
   "codemirror_mode": {
    "name": "ipython",
    "version": 3
   },
   "file_extension": ".py",
   "mimetype": "text/x-python",
   "name": "python",
   "nbconvert_exporter": "python",
   "pygments_lexer": "ipython3",
   "version": "3.10.12"
  }
 },
 "nbformat": 4,
 "nbformat_minor": 5
}
